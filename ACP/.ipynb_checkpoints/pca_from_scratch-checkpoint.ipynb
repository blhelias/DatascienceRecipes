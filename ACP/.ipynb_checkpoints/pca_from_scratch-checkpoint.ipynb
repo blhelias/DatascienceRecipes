{
 "cells": [
  {
   "cell_type": "markdown",
   "metadata": {},
   "source": [
    "# PCA From Scatch"
   ]
  },
  {
   "cell_type": "markdown",
   "metadata": {},
   "source": [
    "## Recette de cuisine numéro 1 : L'analyse en composante Principale"
   ]
  },
  {
   "cell_type": "markdown",
   "metadata": {},
   "source": [
    "Pour préparer un ACP, il est nécessaire de suivre les 6 étapes suivantes : \n",
    "1. Récupération des données ( n observations ; m paramètres )\n",
    "2. Soustraire la moyenne de chaque colonne pour chaque observations\n",
    "3. Calculer la matrice de covariance\n",
    "4. Calculer les vecteurs propres et valeurs propres de la matrice de covariance\n",
    "5. Ordonner les vecteurs propres en fonction des valeurs propres puis former un vecteur caractéristique\n",
    "6. Multiplier la transposée du vecteur caractéristique par la transposée du jeu de données d'origine\n",
    "\n",
    "Dans cette recette, on s'appuie sur un jeu de données de 300 observations et 6 paramètres. "
   ]
  },
  {
   "cell_type": "markdown",
   "metadata": {},
   "source": [
    "### import des librairies"
   ]
  },
  {
   "cell_type": "code",
   "execution_count": 60,
   "metadata": {
    "collapsed": true
   },
   "outputs": [],
   "source": [
    "import pandas as pd\n",
    "import numpy as np\n",
    "import matplotlib.pyplot as plt\n",
    "from sklearn.decomposition import PCA\n",
    "from sklearn.utils.extmath import randomized_svd\n",
    "%matplotlib inline"
   ]
  },
  {
   "cell_type": "markdown",
   "metadata": {},
   "source": [
    "### 1 - Récupération des données"
   ]
  },
  {
   "cell_type": "code",
   "execution_count": 61,
   "metadata": {},
   "outputs": [
    {
     "data": {
      "text/html": [
       "<div>\n",
       "<style>\n",
       "    .dataframe thead tr:only-child th {\n",
       "        text-align: right;\n",
       "    }\n",
       "\n",
       "    .dataframe thead th {\n",
       "        text-align: left;\n",
       "    }\n",
       "\n",
       "    .dataframe tbody tr th {\n",
       "        vertical-align: top;\n",
       "    }\n",
       "</style>\n",
       "<table border=\"1\" class=\"dataframe\">\n",
       "  <thead>\n",
       "    <tr style=\"text-align: right;\">\n",
       "      <th></th>\n",
       "      <th>Sales</th>\n",
       "      <th>Price</th>\n",
       "      <th>Advertising</th>\n",
       "      <th>CompPrice</th>\n",
       "      <th>Population</th>\n",
       "      <th>Age</th>\n",
       "      <th>Urban</th>\n",
       "    </tr>\n",
       "  </thead>\n",
       "  <tbody>\n",
       "    <tr>\n",
       "      <th>0</th>\n",
       "      <td>7,81</td>\n",
       "      <td>102</td>\n",
       "      <td>15</td>\n",
       "      <td>104</td>\n",
       "      <td>226</td>\n",
       "      <td>58</td>\n",
       "      <td>1</td>\n",
       "    </tr>\n",
       "    <tr>\n",
       "      <th>1</th>\n",
       "      <td>6,97</td>\n",
       "      <td>96</td>\n",
       "      <td>11</td>\n",
       "      <td>106</td>\n",
       "      <td>414</td>\n",
       "      <td>79</td>\n",
       "      <td>0</td>\n",
       "    </tr>\n",
       "    <tr>\n",
       "      <th>2</th>\n",
       "      <td>10,51</td>\n",
       "      <td>119</td>\n",
       "      <td>9</td>\n",
       "      <td>140</td>\n",
       "      <td>402</td>\n",
       "      <td>41</td>\n",
       "      <td>0</td>\n",
       "    </tr>\n",
       "    <tr>\n",
       "      <th>3</th>\n",
       "      <td>3,62</td>\n",
       "      <td>128</td>\n",
       "      <td>5</td>\n",
       "      <td>112</td>\n",
       "      <td>500</td>\n",
       "      <td>69</td>\n",
       "      <td>1</td>\n",
       "    </tr>\n",
       "    <tr>\n",
       "      <th>4</th>\n",
       "      <td>13,91</td>\n",
       "      <td>68</td>\n",
       "      <td>0</td>\n",
       "      <td>110</td>\n",
       "      <td>408</td>\n",
       "      <td>46</td>\n",
       "      <td>0</td>\n",
       "    </tr>\n",
       "  </tbody>\n",
       "</table>\n",
       "</div>"
      ],
      "text/plain": [
       "   Sales  Price  Advertising  CompPrice  Population  Age  Urban\n",
       "0   7,81    102           15        104         226   58      1\n",
       "1   6,97     96           11        106         414   79      0\n",
       "2  10,51    119            9        140         402   41      0\n",
       "3   3,62    128            5        112         500   69      1\n",
       "4  13,91     68            0        110         408   46      0"
      ]
     },
     "execution_count": 61,
     "metadata": {},
     "output_type": "execute_result"
    }
   ],
   "source": [
    "dataset = pd.read_csv(\"data.csv\", sep=\";\")\n",
    "del dataset[\"Unnamed: 0\"]\n",
    "dataset.head()"
   ]
  },
  {
   "cell_type": "markdown",
   "metadata": {},
   "source": [
    "### On nettoie la colonne Sales qui est au format string"
   ]
  },
  {
   "cell_type": "code",
   "execution_count": 62,
   "metadata": {
    "collapsed": true
   },
   "outputs": [],
   "source": [
    "dataset.Sales=dataset.Sales.apply(lambda x: x.replace(',','.'))\n",
    "dataset = dataset.astype(float)\n",
    "\n",
    "dataset.Sales = dataset.Sales.astype(float)\n",
    "target = dataset.Sales\n",
    "del dataset[\"Sales\"]"
   ]
  },
  {
   "cell_type": "markdown",
   "metadata": {},
   "source": [
    "### 2 - On soustrait la moyenne a chaque observations"
   ]
  },
  {
   "cell_type": "code",
   "execution_count": 63,
   "metadata": {},
   "outputs": [],
   "source": [
    "data_values=dataset.values\n",
    "mean = data_values.mean(axis=0)\n",
    "data_values-=mean"
   ]
  },
  {
   "cell_type": "markdown",
   "metadata": {},
   "source": [
    "### 3 - Calcule de la matrice de covariance"
   ]
  },
  {
   "cell_type": "code",
   "execution_count": 64,
   "metadata": {},
   "outputs": [
    {
     "name": "stdout",
     "output_type": "stream",
     "text": [
      "[[  5.20328250e+02  -4.32981048e+00   1.93835162e+02  -1.89368785e+02\n",
      "   -4.04486734e+01   5.40824972e-01]\n",
      " [ -4.32981048e+00   3.91295875e+01  -7.51119287e+00   1.67568339e+02\n",
      "    2.82503902e+00  -4.60646600e-02]\n",
      " [  1.93835162e+02  -7.51119287e+00   2.31004002e+02  -2.12934560e+02\n",
      "   -2.94977815e+01   3.41382386e-01]\n",
      " [ -1.89368785e+02   1.67568339e+02  -2.12934560e+02   2.21501862e+04\n",
      "   -5.67416945e+01  -4.51661093e+00]\n",
      " [ -4.04486734e+01   2.82503902e+00  -2.94977815e+01  -5.67416945e+01\n",
      "    2.69323735e+02   5.07714604e-01]\n",
      " [  5.40824972e-01  -4.60646600e-02   3.41382386e-01  -4.51661093e+00\n",
      "    5.07714604e-01   2.39420290e-01]]\n",
      "(6, 6)\n"
     ]
    }
   ],
   "source": [
    "cov = np.cov(data_values.T)\n",
    "print(cov)\n",
    "print(cov.shape)"
   ]
  },
  {
   "cell_type": "markdown",
   "metadata": {},
   "source": [
    "### 4 - Calculer les vecteurs propres et valeurs propres de la matrice de covariance"
   ]
  },
  {
   "cell_type": "code",
   "execution_count": 76,
   "metadata": {},
   "outputs": [],
   "source": [
    "S, V = np.linalg.eig(cov)\n",
    "#U, S, V = randomized_svd(cov,n_components=6,flip_sign=False)\n",
    "#assert that eig vectors are all unit vectors\n",
    "# Make a list of (eigenvalue, eigenvector) tuples\n",
    "eig_pairs = [(np.abs(S[i]), V[:,i]) for i in range(len(S))]"
   ]
  },
  {
   "cell_type": "markdown",
   "metadata": {},
   "source": [
    "### 5 - Ordonner les vecteurs propres en fonction des valeurs propres puis former un vecteur caractéristique"
   ]
  },
  {
   "cell_type": "code",
   "execution_count": 77,
   "metadata": {},
   "outputs": [
    {
     "name": "stdout",
     "output_type": "stream",
     "text": [
      "Help on built-in function sort:\n",
      "\n",
      "sort(...) method of builtins.list instance\n",
      "    L.sort(key=None, reverse=False) -> None -- stable sort *IN PLACE*\n",
      "\n"
     ]
    },
    {
     "data": {
      "image/png": "[encoded data removed]",
      "text/plain": [
       "<matplotlib.figure.Figure at 0x22fed38d470>"
      ]
     },
     "metadata": {},
     "output_type": "display_data"
    }
   ],
   "source": [
    "# Sort the (eigenvalue, eigenvector) tuples from high to low key:eigenvalues\n",
    "eig_pairs.sort(key=lambda x: x[0], reverse=True)\n",
    "help(eig_pairs.sort)\n",
    "\n",
    "tot = sum(S)\n",
    "var_exp = [(i / tot)*100 for i in sorted(S, reverse=True)]\n",
    "cum_var_exp = np.cumsum(var_exp)\n",
    "with plt.style.context('seaborn-whitegrid'):\n",
    "   plt.figure(figsize=(6, 4))    \n",
    "   plt.bar(range(6), var_exp, alpha=0.5, align='center',\n",
    "           label='individual explained variance')\n",
    "   plt.step(range(6), cum_var_exp, where='mid',\n",
    "            label='cumulative explained variance')\n",
    "   plt.ylabel('Explained variance ratio')\n",
    "   plt.xlabel('Principal components')\n",
    "   plt.legend(loc='best')\n",
    "   plt.tight_layout()"
   ]
  },
  {
   "cell_type": "code",
   "execution_count": 78,
   "metadata": {},
   "outputs": [],
   "source": [
    "#create the feature vector\n",
    "list_of_eigvecs = np.array([i[1] for i in eig_pairs])\n",
    "vector_of_eigvecs = list_of_eigvecs.T"
   ]
  },
  {
   "cell_type": "markdown",
   "metadata": {},
   "source": [
    "### 6 - Multiplier la transposée du vecteur caractéristique par la transposée du jeu de données d'origine"
   ]
  },
  {
   "cell_type": "code",
   "execution_count": 80,
   "metadata": {},
   "outputs": [
    {
     "name": "stdout",
     "output_type": "stream",
     "text": [
      "[[  38.85452636   22.01815713   -1.85220357   12.53330316    8.48258398\n",
      "     0.40926022]\n",
      " [-149.07262937   27.12727298  -22.3399371     5.54681577    3.03212267\n",
      "    -0.59836708]\n",
      " [-136.62020599  -13.53801762   11.57249795  -12.28755463    2.64155534\n",
      "    -0.57131878]\n",
      " ..., \n",
      " [-116.8546031   -12.95448618   15.22055696    8.37477019   17.02001128\n",
      "    -0.55043228]\n",
      " [ 161.30550989    4.98554074   -4.20908551  -11.7687417    -4.4981114\n",
      "     0.34695121]\n",
      " [-151.57955036   68.59883607  -11.98951571   -0.50925017    3.98509688\n",
      "     0.45495344]]\n",
      "(300, 6)\n"
     ]
    }
   ],
   "source": [
    "rep=np.dot(vector_of_eigvecs.T,data_values.T)\n",
    "rep =rep.T\n",
    "print(rep)\n",
    "print(rep.shape)"
   ]
  },
  {
   "cell_type": "markdown",
   "metadata": {},
   "source": [
    "## Comparons avec la libraire sklearn"
   ]
  },
  {
   "cell_type": "code",
   "execution_count": 81,
   "metadata": {},
   "outputs": [
    {
     "name": "stdout",
     "output_type": "stream",
     "text": [
      "[[  38.85452636   22.01815713    1.85220357   12.53330316    8.48258398\n",
      "    -0.40926022]\n",
      " [-149.07262937   27.12727298   22.3399371     5.54681577    3.03212267\n",
      "     0.59836708]\n",
      " [-136.62020599  -13.53801762  -11.57249795  -12.28755463    2.64155534\n",
      "     0.57131878]\n",
      " ..., \n",
      " [-116.8546031   -12.95448618  -15.22055696    8.37477019   17.02001128\n",
      "     0.55043228]\n",
      " [ 161.30550989    4.98554074    4.20908551  -11.7687417    -4.4981114\n",
      "    -0.34695121]\n",
      " [-151.57955036   68.59883607   11.98951571   -0.50925017    3.98509688\n",
      "    -0.45495344]]\n"
     ]
    }
   ],
   "source": [
    "pca = PCA(n_components=6)\n",
    "pca.fit(data_values)\n",
    "\n",
    "transformed_data=pca.transform(data_values)\n",
    "print(transformed_data)"
   ]
  },
  {
   "cell_type": "code",
   "execution_count": 82,
   "metadata": {},
   "outputs": [
    {
     "name": "stdout",
     "output_type": "stream",
     "text": [
      "False\n",
      "[[  38.85452636   22.01815713   -1.85220357   12.53330316    8.48258398\n",
      "     0.40926022]\n",
      " [-149.07262937   27.12727298  -22.3399371     5.54681577    3.03212267\n",
      "    -0.59836708]\n",
      " [-136.62020599  -13.53801762   11.57249795  -12.28755463    2.64155534\n",
      "    -0.57131878]\n",
      " ..., \n",
      " [-116.8546031   -12.95448618   15.22055696    8.37477019   17.02001128\n",
      "    -0.55043228]\n",
      " [ 161.30550989    4.98554074   -4.20908551  -11.7687417    -4.4981114\n",
      "     0.34695121]\n",
      " [-151.57955036   68.59883607  -11.98951571   -0.50925017    3.98509688\n",
      "     0.45495344]]\n",
      "[[  38.85452636   22.01815713    1.85220357   12.53330316    8.48258398\n",
      "    -0.40926022]\n",
      " [-149.07262937   27.12727298   22.3399371     5.54681577    3.03212267\n",
      "     0.59836708]\n",
      " [-136.62020599  -13.53801762  -11.57249795  -12.28755463    2.64155534\n",
      "     0.57131878]\n",
      " ..., \n",
      " [-116.8546031   -12.95448618  -15.22055696    8.37477019   17.02001128\n",
      "     0.55043228]\n",
      " [ 161.30550989    4.98554074    4.20908551  -11.7687417    -4.4981114\n",
      "    -0.34695121]\n",
      " [-151.57955036   68.59883607   11.98951571   -0.50925017    3.98509688\n",
      "    -0.45495344]]\n"
     ]
    }
   ],
   "source": [
    "print(rep)\n",
    "print(transformed_data)"
   ]
  },
  {
   "cell_type": "markdown",
   "metadata": {},
   "source": [
    "Différence de signe..."
   ]
  }
 ],
 "metadata": {
  "kernelspec": {
   "display_name": "Python 3",
   "language": "python",
   "name": "python3"
  },
  "language_info": {
   "codemirror_mode": {
    "name": "ipython",
    "version": 3
   },
   "file_extension": ".py",
   "mimetype": "text/x-python",
   "name": "python",
   "nbconvert_exporter": "python",
   "pygments_lexer": "ipython3",
   "version": "3.6.1"
  }
 },
 "nbformat": 4,
 "nbformat_minor": 2
}
